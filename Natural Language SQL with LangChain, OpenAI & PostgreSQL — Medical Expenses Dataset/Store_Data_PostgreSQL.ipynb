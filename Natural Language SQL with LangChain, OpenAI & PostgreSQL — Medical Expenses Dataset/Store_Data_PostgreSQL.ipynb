{
 "cells": [
  {
   "cell_type": "markdown",
   "id": "7d59f9f3-b929-4330-a91d-1a46f11767df",
   "metadata": {},
   "source": [
    "Laod CSV into PostgreSQL"
   ]
  },
  {
   "cell_type": "code",
   "execution_count": 15,
   "id": "0fcc6691-66ed-4ee8-b0f7-526df6624571",
   "metadata": {},
   "outputs": [
    {
     "name": "stdout",
     "output_type": "stream",
     "text": [
      "Data loaded to PostgreSQL table: medical_expenses\n"
     ]
    }
   ],
   "source": [
    "import pandas as pd\n",
    "import os\n",
    "from sqlalchemy import create_engine\n",
    "from dotenv import load_dotenv\n",
    "\n",
    "# Load .env file \n",
    "load_dotenv()\n",
    "\n",
    "# Get connection string\n",
    "db_url = os.getenv(\"DATABASE_URL\")\n",
    "\n",
    "# Create SQLAlchemy engine\n",
    "engine = create_engine(db_url)\n",
    "\n",
    "# Load CSV\n",
    "df = pd.read_csv(\"insurance.csv\")\n",
    "\n",
    "# Upload to PostgreSQL\n",
    "df.to_sql(\"medical_expenses\", engine, if_exists=\"replace\", index=False)\n",
    "\n",
    "print(\"Data loaded to PostgreSQL table: medical_expenses\")"
   ]
  },
  {
   "cell_type": "code",
   "execution_count": null,
   "id": "ca698700-58c8-4157-8ee5-88b73d74c3d0",
   "metadata": {},
   "outputs": [],
   "source": []
  }
 ],
 "metadata": {
  "kernelspec": {
   "display_name": "Python 3 (ipykernel)",
   "language": "python",
   "name": "python3"
  },
  "language_info": {
   "codemirror_mode": {
    "name": "ipython",
    "version": 3
   },
   "file_extension": ".py",
   "mimetype": "text/x-python",
   "name": "python",
   "nbconvert_exporter": "python",
   "pygments_lexer": "ipython3",
   "version": "3.11.11"
  }
 },
 "nbformat": 4,
 "nbformat_minor": 5
}
