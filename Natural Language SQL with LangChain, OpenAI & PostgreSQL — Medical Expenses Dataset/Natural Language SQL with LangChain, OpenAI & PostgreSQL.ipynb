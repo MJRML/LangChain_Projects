{
 "cells": [
  {
   "cell_type": "markdown",
   "id": "80a32cf0-70c8-495f-aae9-3f8a89b01ffd",
   "metadata": {},
   "source": [
    "Import Dependencies"
   ]
  },
  {
   "cell_type": "code",
   "execution_count": 14,
   "id": "9e6a4105-7592-442d-8b0c-6f61df4a98cd",
   "metadata": {},
   "outputs": [
    {
     "name": "stdout",
     "output_type": "stream",
     "text": [
      "Key loaded: True\n",
      "DB URI: True\n"
     ]
    }
   ],
   "source": [
    "from dotenv import load_dotenv\n",
    "import os\n",
    "\n",
    "load_dotenv()\n",
    "\n",
    "OPENAI_API_KEY = os.getenv(\"OPENAI_API_KEY\")\n",
    "DATABASE_URI = os.getenv(\"DATABASE_URI\")\n",
    "\n",
    "print(\"Key loaded:\", bool(OPENAI_API_KEY))\n",
    "print(\"DB URI:\", bool(DATABASE_URI))"
   ]
  },
  {
   "cell_type": "markdown",
   "id": "11a7a545-c772-44d1-a626-e2cd2dfa1620",
   "metadata": {},
   "source": [
    "Setup LangChain and connect to PostgreSql"
   ]
  },
  {
   "cell_type": "code",
   "execution_count": 9,
   "id": "257f7d83-0e59-4869-870e-b0a233006b31",
   "metadata": {},
   "outputs": [],
   "source": [
    "from langchain.chat_models import ChatOpenAI\n",
    "from langchain_experimental.sql import SQLDatabaseChain\n",
    "from langchain.utilities import SQLDatabase"
   ]
  },
  {
   "cell_type": "code",
   "execution_count": 10,
   "id": "be8d74c3-2fb2-485d-90f5-2fbab4a5a399",
   "metadata": {},
   "outputs": [],
   "source": [
    "#PostgreSql URI - URI -encoded password\n",
    "DATABASE_URI = os.getenv(\"DATABASE_URI\")\n",
    "\n",
    "#connect to the database\n",
    "db = SQLDatabase.from_uri(DATABASE_URI)"
   ]
  },
  {
   "cell_type": "markdown",
   "id": "efc83e9a-8165-459d-aea0-4c0ba2040606",
   "metadata": {},
   "source": [
    "Initialize LLM and SQl Chain"
   ]
  },
  {
   "cell_type": "code",
   "execution_count": 5,
   "id": "ea957a64-7243-415c-a6bd-ddaec314760f",
   "metadata": {
    "collapsed": true,
    "jupyter": {
     "outputs_hidden": true
    }
   },
   "outputs": [
    {
     "name": "stderr",
     "output_type": "stream",
     "text": [
      "C:\\Users\\marty\\AppData\\Local\\Temp\\ipykernel_11036\\1780378031.py:1: LangChainDeprecationWarning: The class `ChatOpenAI` was deprecated in LangChain 0.0.10 and will be removed in 1.0. An updated version of the class exists in the :class:`~langchain-openai package and should be used instead. To use it run `pip install -U :class:`~langchain-openai` and import as `from :class:`~langchain_openai import ChatOpenAI``.\n",
      "  llm = ChatOpenAI(temperature=0,model='gpt-4')\n"
     ]
    }
   ],
   "source": [
    "llm = ChatOpenAI(temperature=0,model='gpt-4')\n",
    "db_chain = SQLDatabaseChain.from_llm(llm,db,verbose=True)"
   ]
  },
  {
   "cell_type": "code",
   "execution_count": 6,
   "id": "f0cbb1ff-20ec-4976-a45d-f6faa51ed690",
   "metadata": {
    "collapsed": true,
    "jupyter": {
     "outputs_hidden": true
    }
   },
   "outputs": [
    {
     "name": "stderr",
     "output_type": "stream",
     "text": [
      "C:\\Users\\marty\\AppData\\Local\\Temp\\ipykernel_11036\\1979368892.py:3: LangChainDeprecationWarning: The method `Chain.__call__` was deprecated in langchain 0.1.0 and will be removed in 1.0. Use :meth:`~invoke` instead.\n",
      "  response = db_chain(question)\n"
     ]
    },
    {
     "name": "stdout",
     "output_type": "stream",
     "text": [
      "\n",
      "\n",
      "\u001b[1m> Entering new SQLDatabaseChain chain...\u001b[0m\n",
      "What is the average charge for smokers?\n",
      "\u001b[32;1m\u001b[1;3mSELECT AVG(\"charges\") FROM medical_expenses WHERE \"smoker\" = 'yes'\u001b[0m\n",
      "SQLResult: \u001b[33;1m\u001b[1;3m[(32050.23183153285,)]\u001b[0m\n",
      "\u001b[32;1m\u001b[1;3mThe average charge for smokers is approximately 32050.23.\u001b[0m\n",
      "\u001b[1m> Finished chain.\u001b[0m\n",
      "Response {'query': 'What is the average charge for smokers?', 'result': 'The average charge for smokers is approximately 32050.23.'}\n"
     ]
    }
   ],
   "source": [
    "#Ask natural Langauge Questions\n",
    "question = 'What is the average charge for smokers?'\n",
    "response = db_chain(question)\n",
    "print('Response',response)"
   ]
  },
  {
   "cell_type": "code",
   "execution_count": 7,
   "id": "03201f58-e1fc-4be1-ab9a-a4b73b55c1e9",
   "metadata": {
    "scrolled": true
   },
   "outputs": [
    {
     "name": "stdin",
     "output_type": "stream",
     "text": [
      "Ask a question (or type 'exit'):  what is the average charge cost for a female smoker over 40?\n"
     ]
    },
    {
     "name": "stderr",
     "output_type": "stream",
     "text": [
      "C:\\Users\\marty\\AppData\\Local\\Temp\\ipykernel_11036\\943830914.py:6: LangChainDeprecationWarning: The method `Chain.run` was deprecated in langchain 0.1.0 and will be removed in 1.0. Use :meth:`~invoke` instead.\n",
      "  result = db_chain.run(q)\n"
     ]
    },
    {
     "name": "stdout",
     "output_type": "stream",
     "text": [
      "\n",
      "\n",
      "\u001b[1m> Entering new SQLDatabaseChain chain...\u001b[0m\n",
      "what is the average charge cost for a female smoker over 40?\n",
      "\u001b[32;1m\u001b[1;3mSELECT AVG(\"charges\") FROM medical_expenses WHERE \"sex\" = 'female' AND \"smoker\" = 'yes' AND \"age\" > 40\u001b[0m\n",
      "SQLResult: \u001b[33;1m\u001b[1;3m[(34517.67366452831,)]\u001b[0m\n",
      "\u001b[32;1m\u001b[1;3mThe average charge cost for a female smoker over 40 is approximately 34517.67.\u001b[0m\n",
      "\u001b[1m> Finished chain.\u001b[0m\n",
      "Answer: The average charge cost for a female smoker over 40 is approximately 34517.67.\n"
     ]
    },
    {
     "name": "stdin",
     "output_type": "stream",
     "text": [
      "Ask a question (or type 'exit'):  what region has the highest average charges?\n"
     ]
    },
    {
     "name": "stdout",
     "output_type": "stream",
     "text": [
      "\n",
      "\n",
      "\u001b[1m> Entering new SQLDatabaseChain chain...\u001b[0m\n",
      "what region has the highest average charges?\n",
      "\u001b[32;1m\u001b[1;3mSELECT \"region\", AVG(\"charges\") as average_charges\n",
      "FROM medical_expenses\n",
      "GROUP BY \"region\"\n",
      "ORDER BY average_charges DESC\n",
      "LIMIT 1\u001b[0m\n",
      "SQLResult: \u001b[33;1m\u001b[1;3m[('southeast', 14735.411437609895)]\u001b[0m\n",
      "\u001b[32;1m\u001b[1;3mThe region with the highest average charges is southeast.\u001b[0m\n",
      "\u001b[1m> Finished chain.\u001b[0m\n",
      "Answer: The region with the highest average charges is southeast.\n"
     ]
    },
    {
     "name": "stdin",
     "output_type": "stream",
     "text": [
      "Ask a question (or type 'exit'):  do smokers have a higher average charge?\n"
     ]
    },
    {
     "name": "stdout",
     "output_type": "stream",
     "text": [
      "\n",
      "\n",
      "\u001b[1m> Entering new SQLDatabaseChain chain...\u001b[0m\n",
      "do smokers have a higher average charge?\n",
      "\u001b[32;1m\u001b[1;3mSELECT \"smoker\", AVG(\"charges\") AS average_charge FROM medical_expenses GROUP BY \"smoker\"\u001b[0m\n",
      "SQLResult: \u001b[33;1m\u001b[1;3m[('no', 8434.268297856199), ('yes', 32050.23183153285)]\u001b[0m\n",
      "\u001b[32;1m\u001b[1;3mYes, smokers have a higher average charge.\u001b[0m\n",
      "\u001b[1m> Finished chain.\u001b[0m\n",
      "Answer: Yes, smokers have a higher average charge.\n"
     ]
    },
    {
     "name": "stdin",
     "output_type": "stream",
     "text": [
      "Ask a question (or type 'exit'):  display the average cost for a male smoker and male non smoker?\n"
     ]
    },
    {
     "name": "stdout",
     "output_type": "stream",
     "text": [
      "\n",
      "\n",
      "\u001b[1m> Entering new SQLDatabaseChain chain...\u001b[0m\n",
      "display the average cost for a male smoker and male non smoker?\n",
      "\u001b[32;1m\u001b[1;3mSELECT \"smoker\", AVG(\"charges\") \n",
      "FROM medical_expenses \n",
      "WHERE \"sex\" = 'male' \n",
      "GROUP BY \"smoker\"\u001b[0m\n",
      "SQLResult: \u001b[33;1m\u001b[1;3m[('no', 8087.204731276592), ('yes', 33042.00597528302)]\u001b[0m\n",
      "\u001b[32;1m\u001b[1;3mThe average cost for a male non-smoker is approximately 8087.20 and for a male smoker is approximately 33042.01.\u001b[0m\n",
      "\u001b[1m> Finished chain.\u001b[0m\n",
      "Answer: The average cost for a male non-smoker is approximately 8087.20 and for a male smoker is approximately 33042.01.\n"
     ]
    },
    {
     "name": "stdin",
     "output_type": "stream",
     "text": [
      "Ask a question (or type 'exit'):  does having a high bi and being a smoking affect your charges\n"
     ]
    },
    {
     "name": "stdout",
     "output_type": "stream",
     "text": [
      "\n",
      "\n",
      "\u001b[1m> Entering new SQLDatabaseChain chain...\u001b[0m\n",
      "does having a high bi and being a smoking affect your charges\n",
      "\u001b[32;1m\u001b[1;3mSELECT \"smoker\", AVG(\"charges\") as average_charges\n",
      "FROM medical_expenses\n",
      "WHERE \"bmi\" > 30\n",
      "GROUP BY \"smoker\"\n",
      "LIMIT 5;\u001b[0m\n",
      "SQLResult: \u001b[33;1m\u001b[1;3m[('no', 8853.277293600706), ('yes', 41692.808991527796)]\u001b[0m\n",
      "\u001b[32;1m\u001b[1;3mYes, having a high BMI and being a smoker does affect your charges. On average, smokers with a high BMI have charges of approximately 41692.81, while non-smokers with a high BMI have charges of approximately 8853.28.\u001b[0m\n",
      "\u001b[1m> Finished chain.\u001b[0m\n",
      "Answer: Yes, having a high BMI and being a smoker does affect your charges. On average, smokers with a high BMI have charges of approximately 41692.81, while non-smokers with a high BMI have charges of approximately 8853.28.\n"
     ]
    },
    {
     "name": "stdin",
     "output_type": "stream",
     "text": [
      "Ask a question (or type 'exit'):  what is are the average charges for a smoker over the age of 50 and younger then 85?\n"
     ]
    },
    {
     "name": "stdout",
     "output_type": "stream",
     "text": [
      "\n",
      "\n",
      "\u001b[1m> Entering new SQLDatabaseChain chain...\u001b[0m\n",
      "what is are the average charges for a smoker over the age of 50 and younger then 85?\n",
      "\u001b[32;1m\u001b[1;3mSELECT AVG(\"charges\") FROM medical_expenses WHERE \"smoker\" = 'yes' AND \"age\" > 50 AND \"age\" < 85\u001b[0m\n",
      "SQLResult: \u001b[33;1m\u001b[1;3m[(38820.22308234375,)]\u001b[0m\n",
      "\u001b[32;1m\u001b[1;3mThe average charges for a smoker over the age of 50 and younger than 85 is approximately 38820.22.\u001b[0m\n",
      "\u001b[1m> Finished chain.\u001b[0m\n",
      "Answer: The average charges for a smoker over the age of 50 and younger than 85 is approximately 38820.22.\n"
     ]
    },
    {
     "name": "stdin",
     "output_type": "stream",
     "text": [
      "Ask a question (or type 'exit'):  exit\n"
     ]
    }
   ],
   "source": [
    "while True:\n",
    "    q = input(\"Ask a question (or type 'exit'): \")\n",
    "    if q.lower() == \"exit\":\n",
    "        break\n",
    "    try:\n",
    "        result = db_chain.run(q)\n",
    "        print(\"Answer:\", result)\n",
    "    except Exception as e:\n",
    "        print(\"Error:\", e)"
   ]
  }
 ],
 "metadata": {
  "kernelspec": {
   "display_name": "Python 3 (ipykernel)",
   "language": "python",
   "name": "python3"
  },
  "language_info": {
   "codemirror_mode": {
    "name": "ipython",
    "version": 3
   },
   "file_extension": ".py",
   "mimetype": "text/x-python",
   "name": "python",
   "nbconvert_exporter": "python",
   "pygments_lexer": "ipython3",
   "version": "3.11.11"
  }
 },
 "nbformat": 4,
 "nbformat_minor": 5
}
