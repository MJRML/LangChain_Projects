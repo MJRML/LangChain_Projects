{
 "cells": [
  {
   "cell_type": "code",
   "execution_count": 5,
   "id": "713166a2-c530-43e5-94fc-c88b5b5f3058",
   "metadata": {},
   "outputs": [
    {
     "name": "stdout",
     "output_type": "stream",
     "text": [
      "Key loaded: True\n"
     ]
    }
   ],
   "source": [
    "import os #Imports the built-in os module so you can interact with environment variables\n",
    "from dotenv import load_dotenv #This function reads key-value pairs from a .env file and adds them to your environment variables.\n",
    "load_dotenv() #Loads environment variables from a .env file into your environment.\n",
    "\n",
    "# Confirm it's loaded\n",
    "#Retrieves the OPENAI_API_KEY from the environment.\n",
    "#Converts it to a Boolean (True if it exists --> False otherwise).\n",
    "#Prints Key loaded: True if the key is successfully loaded.\n",
    "print(\"Key loaded:\", bool(os.getenv(\"OPENAI_API_KEY\"))) "
   ]
  },
  {
   "cell_type": "code",
   "execution_count": 8,
   "id": "10ed6e1d-d09e-428e-95ed-064bfbf56d22",
   "metadata": {},
   "outputs": [
    {
     "name": "stderr",
     "output_type": "stream",
     "text": [
      "Ignoring wrong pointing object 10 0 (offset 0)\n",
      "Ignoring wrong pointing object 16 0 (offset 0)\n",
      "Ignoring wrong pointing object 18 0 (offset 0)\n",
      "Ignoring wrong pointing object 20 0 (offset 0)\n",
      "Ignoring wrong pointing object 22 0 (offset 0)\n",
      "Ignoring wrong pointing object 39 0 (offset 0)\n",
      "Ignoring wrong pointing object 42 0 (offset 0)\n",
      "Ignoring wrong pointing object 67 0 (offset 0)\n",
      "Ignoring wrong pointing object 92 0 (offset 0)\n",
      "Ignoring wrong pointing object 116 0 (offset 0)\n",
      "Ignoring wrong pointing object 118 0 (offset 0)\n",
      "Ignoring wrong pointing object 131 0 (offset 0)\n",
      "Ignoring wrong pointing object 137 0 (offset 0)\n",
      "Ignoring wrong pointing object 139 0 (offset 0)\n",
      "Ignoring wrong pointing object 141 0 (offset 0)\n",
      "Ignoring wrong pointing object 143 0 (offset 0)\n",
      "Ignoring wrong pointing object 152 0 (offset 0)\n"
     ]
    }
   ],
   "source": [
    "from langchain.document_loaders import PyPDFLoader #A class used to load and parse content from PDF files.\n",
    "from langchain.text_splitter import RecursiveCharacterTextSplitter # A utility that splits long texts into smaller chunks using intelligent logic, useful for embedding and search.\n",
    "\n",
    "# Load the PDF document\n",
    "loader = PyPDFLoader(\"COMMUNITY+ARCHETYPES_Final.08.22.24.pdf\") #Initializes the loader with your target PDF.\n",
    "documents = loader.load() #.load() Reads and extracts the text content from each page of the PDF. --> Langchain document object\n",
    "\n",
    "#Each chunk will contain approximately 500 characters\n",
    "#Consecutive chunks will overlap by 50 characters to maintain context across chunks\n",
    "splitter = RecursiveCharacterTextSplitter(chunk_size=500, chunk_overlap=50) \n",
    "\n",
    "#Takes the list of PDF Document objects and splits the content into smaller chunks.\n",
    "#A new list of smaller Document chunks, good for embedding, vector search, or feeding into LLMs.\n",
    "docs = splitter.split_documents(documents)"
   ]
  },
  {
   "cell_type": "code",
   "execution_count": 9,
   "id": "653543e2-1927-4ad2-a227-a03ad8fd5b8a",
   "metadata": {},
   "outputs": [],
   "source": [
    "from langchain.embeddings import OpenAIEmbeddings #generate vector embeddings (numerical resprentations of the docs)\n",
    "\n",
    "#embeddings are key to enabling semantic search\n",
    "embeddings = OpenAIEmbeddings() #Create an instance of OpenAI embedding generator\n",
    "\n",
    "#Create a list of strings representing the content of the chunks created from the pdf\n",
    "#embed_documnets --> sends each text chunk to OpenAI;s embedding API's\n",
    "doc_embeddings = embeddings.embed_documents([doc.page_content for doc in docs]) #creates a list of embeddings (vectors) to store in FAISS"
   ]
  },
  {
   "cell_type": "code",
   "execution_count": 11,
   "id": "89134e7e-be8d-467c-adbb-73ce6db9d92e",
   "metadata": {},
   "outputs": [],
   "source": [
    "#Using FAISS (fast and simple in-memory search engine) (Facebook AI Simularity search)"
   ]
  },
  {
   "cell_type": "code",
   "execution_count": 13,
   "id": "f6a2dfc9-5032-4088-89bc-3bd47de176e4",
   "metadata": {},
   "outputs": [],
   "source": [
    "from langchain.vectorstores import FAISS #import FAISS - high-performance vector database\n",
    "\n",
    "#inout the docs and embeddings we created\n",
    "#Embeds all docs using embedding model\n",
    "#Stores in FAISS Index -- to use for a semantic search\n",
    "vectorstore = FAISS.from_documents(docs,embeddings)"
   ]
  },
  {
   "cell_type": "code",
   "execution_count": 14,
   "id": "f4be6065-3d19-4c17-bcea-7a2c7549dfb9",
   "metadata": {},
   "outputs": [
    {
     "name": "stdout",
     "output_type": "stream",
     "text": [
      "\n",
      "-- Match 1--\n",
      "High oil and gas production (4) High renewable energy capacity (8) Very small populations and population loss (17) High % of residents <HS education (9) High unemployment and High % <HS education (26)    Small population, high GDP and O&G production (1)  Very high population gain (1)\n",
      "\n",
      "-- Match 2--\n",
      "• Exceptionally high O&G production 4.5 – 7.4 billion BOE/year • Very low to average installed RE capacity 0.0 – 159 MW • Average to high employment in natural  resources, construction, and maintenance 14 – 27% • Average to high percent of residents  without a HS diploma 15 – 30% • Average to very high unemployment rates 5.7 – 9.6% • Average to high GDP per capita $142 thousand – $1.3 million High RE Capacity 8 • Exceptionally high installed RE capacity 970 – 2,800 MW/year • Low to average\n",
      "\n",
      "-- Match 3--\n",
      "(BOE) remaining—“twice the volume produced during the first 100 years of hydrocarbon production” (p. 1099). Direct O&G jobs doubled between 2009 and 2019 to toal >87,600.However, O&G jobs in the Permian are declining. Between September 2019 and September 2020, Texas saw more than 76,000 O&G jobs lost (Chase, 2022). Beyond market forces, innovation in the O&G sector is leading to fewer jobs required to support production. Indeed, new O&G jobs created post pandemic still lag 2019 levels, reaching\n"
     ]
    }
   ],
   "source": [
    "query = 'What is High O&G Production?'\n",
    "docs = vectorstore.similarity_search(query,k=3) #pass query to vector store -> vectorstore compares this vector to all stored doc vectors --> k=3 returns the top 3 most similar document chunks based on meaning\n",
    "\n",
    "for i,doc in enumerate(docs):\n",
    "    print(f'\\n-- Match {i+1}--')\n",
    "    print(doc.page_content) #doc.page_content contains the raw text of each matched chunk."
   ]
  },
  {
   "cell_type": "code",
   "execution_count": 15,
   "id": "f9707413-343c-49ea-abb8-0a2aadd3fe78",
   "metadata": {},
   "outputs": [],
   "source": [
    "from langchain.chat_models import ChatOpenAI #import Langchain wrapper around OpenAI's GT model, whichwe call in the below code\n",
    "from langchain.chains.question_answering import load_qa_chain #prebuilt QA chain in Langchain --> takes the query and docs and feeds to LLM for an answer"
   ]
  },
  {
   "cell_type": "code",
   "execution_count": 18,
   "id": "d57c4176-b918-40ad-b645-9295da713a2f",
   "metadata": {},
   "outputs": [
    {
     "name": "stdout",
     "output_type": "stream",
     "text": [
      "\n",
      "Answer:\n",
      " High Oil and Gas (O&G) production refers to a significant level of extraction and processing of oil and natural gas. In the context provided, it is quantified as 4.5 – 7.4 billion Barrels of Oil Equivalent (BOE) per year. This indicates a high level of activity in the oil and gas sector, contributing to the energy supply and economy of the region.\n"
     ]
    }
   ],
   "source": [
    "llm = ChatOpenAI(model_name='gpt-4',temperature=0.2) #model we use GPT-4 and tempartre is 0.2 to minimize randomness\n",
    "\n",
    "qa_chain = load_qa_chain(llm,chain_type='stuff')#'stuff': Concatenates all documents and passes them as a single input to the model.\n",
    "\n",
    "response = qa_chain.run(input_documents=docs,question=query) #The query and top-matching chunks for FAISS vectorestore\n",
    "print('\\nAnswer:\\n',response) # A natural language answer generated by GPT-4"
   ]
  },
  {
   "cell_type": "code",
   "execution_count": null,
   "id": "ebdc8420-c28c-450e-bc21-d2f26ffe5e62",
   "metadata": {},
   "outputs": [],
   "source": []
  }
 ],
 "metadata": {
  "kernelspec": {
   "display_name": "Python 3 (ipykernel)",
   "language": "python",
   "name": "python3"
  },
  "language_info": {
   "codemirror_mode": {
    "name": "ipython",
    "version": 3
   },
   "file_extension": ".py",
   "mimetype": "text/x-python",
   "name": "python",
   "nbconvert_exporter": "python",
   "pygments_lexer": "ipython3",
   "version": "3.11.11"
  }
 },
 "nbformat": 4,
 "nbformat_minor": 5
}
